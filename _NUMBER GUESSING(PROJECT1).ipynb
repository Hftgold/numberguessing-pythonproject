{
 "cells": [
  {
   "cell_type": "code",
   "execution_count": 2,
   "id": "7353edff-9840-4a25-b9b2-e1d031efaf24",
   "metadata": {},
   "outputs": [],
   "source": [
    "#NUMBER GUESSING GAME PYTHON (USING RANDOM MODULE)"
   ]
  },
  {
   "cell_type": "code",
   "execution_count": 2,
   "id": "88d3ce9b-6de5-4380-bca8-0084c6b4a87e",
   "metadata": {},
   "outputs": [],
   "source": [
    "import random\n"
   ]
  },
  {
   "cell_type": "code",
   "execution_count": 3,
   "id": "2e83d078-3854-4cbc-ba64-6d501f1cccad",
   "metadata": {},
   "outputs": [
    {
     "name": "stdin",
     "output_type": "stream",
     "text": [
      "enter your number 56\n"
     ]
    }
   ],
   "source": [
    "cnumber=random.randrange(1,101)\n",
    "userinput=int(input(\"enter your number\"))\n",
    "\n",
    "    \n",
    "    \n"
   ]
  },
  {
   "cell_type": "code",
   "execution_count": 5,
   "id": "5ac34674-c8b4-4fc2-912d-34e7bba1a3af",
   "metadata": {},
   "outputs": [
    {
     "name": "stdout",
     "output_type": "stream",
     "text": [
      "computer number 77\n",
      "your guess number is too low\n"
     ]
    }
   ],
   "source": [
    "if userinput>cnumber:\n",
    "    print(\"computer number\",cnumber)\n",
    "    print(\"your guess number too high\")\n",
    "elif cnumber> userinput:\n",
    "     print(\"computer number\",cnumber)\n",
    "     print(\"your guess number is too low\")\n",
    "else:\n",
    "    print(\"computer number\",cnumber)\n",
    "    print(\"your guess number is equal\")"
   ]
  },
  {
   "cell_type": "code",
   "execution_count": null,
   "id": "9be2e316-6563-4694-afa0-e67a2ed69d1d",
   "metadata": {},
   "outputs": [],
   "source": []
  },
  {
   "cell_type": "code",
   "execution_count": null,
   "id": "10d12db3-9b8d-48c0-ba66-a6d408e5516c",
   "metadata": {},
   "outputs": [],
   "source": []
  }
 ],
 "metadata": {
  "kernelspec": {
   "display_name": "Python 3 (ipykernel)",
   "language": "python",
   "name": "python3"
  },
  "language_info": {
   "codemirror_mode": {
    "name": "ipython",
    "version": 3
   },
   "file_extension": ".py",
   "mimetype": "text/x-python",
   "name": "python",
   "nbconvert_exporter": "python",
   "pygments_lexer": "ipython3",
   "version": "3.11.7"
  }
 },
 "nbformat": 4,
 "nbformat_minor": 5
}
